{
 "cells": [
  {
   "cell_type": "markdown",
   "id": "2e84ddd8",
   "metadata": {},
   "source": [
    "# import needed library"
   ]
  },
  {
   "cell_type": "code",
   "execution_count": 1,
   "id": "438b97ce",
   "metadata": {},
   "outputs": [],
   "source": [
    "import numpy as np\n",
    "import scipy \n",
    "import matplotlib.pyplot as plt \n",
    "from sklearn import preprocessing \n",
    "import pandas as pd\n",
    "from sklearn.model_selection import train_test_split\n",
    "from sklearn import datasets\n",
    "\n",
    "from numpy import log,dot,exp,shape\n",
    "from sklearn.datasets import make_classification\n",
    "from sklearn.metrics import confusion_matrix\n",
    "from sklearn.metrics import r2_score\n",
    "from sklearn import metrics\n",
    "from sklearn.preprocessing import FunctionTransformer\n",
    "import seaborn as sns\n",
    "from sklearn import preprocessing\n",
    "from scipy.stats import stats\n",
    "from sklearn.feature_selection import SelectKBest\n",
    "from sklearn.feature_selection import mutual_info_classif as mic\n",
    "from sklearn.metrics import accuracy_score, classification_report\n",
    "from sklearn.model_selection import GridSearchCV\n",
    "from sklearn.preprocessing import StandardScaler\n"
   ]
  },
  {
   "cell_type": "markdown",
   "id": "f247bd4e",
   "metadata": {},
   "source": [
    "# read data frm local path"
   ]
  },
  {
   "cell_type": "code",
   "execution_count": 2,
   "id": "56a7576b",
   "metadata": {},
   "outputs": [],
   "source": [
    "data_frame=pd.read_csv(r'C:\\Users\\start\\Documents\\CIB\\Assignments\\project\\clean_dataset.csv')"
   ]
  },
  {
   "cell_type": "markdown",
   "id": "7e3539e7",
   "metadata": {},
   "source": [
    "# preprossing data"
   ]
  },
  {
   "cell_type": "code",
   "execution_count": 3,
   "id": "3fe5d5fd",
   "metadata": {},
   "outputs": [
    {
     "name": "stdout",
     "output_type": "stream",
     "text": [
      "<class 'pandas.core.frame.DataFrame'>\n",
      "RangeIndex: 690 entries, 0 to 689\n",
      "Data columns (total 16 columns):\n",
      " #   Column          Non-Null Count  Dtype  \n",
      "---  ------          --------------  -----  \n",
      " 0   Gender          690 non-null    int64  \n",
      " 1   Age             690 non-null    float64\n",
      " 2   Debt            690 non-null    float64\n",
      " 3   Married         690 non-null    int64  \n",
      " 4   BankCustomer    690 non-null    int64  \n",
      " 5   Industry        690 non-null    object \n",
      " 6   Ethnicity       690 non-null    object \n",
      " 7   YearsEmployed   690 non-null    float64\n",
      " 8   PriorDefault    690 non-null    int64  \n",
      " 9   Employed        690 non-null    int64  \n",
      " 10  CreditScore     690 non-null    int64  \n",
      " 11  DriversLicense  690 non-null    int64  \n",
      " 12  Citizen         690 non-null    object \n",
      " 13  ZipCode         690 non-null    int64  \n",
      " 14  Income          690 non-null    int64  \n",
      " 15  Approved        690 non-null    int64  \n",
      "dtypes: float64(3), int64(10), object(3)\n",
      "memory usage: 86.4+ KB\n"
     ]
    }
   ],
   "source": [
    "data_frame.info()"
   ]
  },
  {
   "cell_type": "markdown",
   "id": "79798c67",
   "metadata": {},
   "source": [
    "# split data to featurs and target"
   ]
  },
  {
   "cell_type": "code",
   "execution_count": 4,
   "id": "6971bdb5",
   "metadata": {},
   "outputs": [],
   "source": [
    "X = data_frame.drop(['Approved'], axis = 1)\n",
    "Y = data_frame['Approved']"
   ]
  },
  {
   "cell_type": "markdown",
   "id": "3c205e7a",
   "metadata": {},
   "source": [
    "# labelEncoder"
   ]
  },
  {
   "cell_type": "code",
   "execution_count": 5,
   "id": "ee87173a",
   "metadata": {},
   "outputs": [],
   "source": [
    "lable = ['Industry', 'Ethnicity', 'Citizen']\n",
    "\n",
    "encoder = preprocessing.LabelEncoder()\n",
    "data_frame[lable] = data_frame[lable].apply(encoder.fit_transform)"
   ]
  },
  {
   "cell_type": "code",
   "execution_count": 6,
   "id": "e477eac3",
   "metadata": {},
   "outputs": [
    {
     "data": {
      "text/html": [
       "<div>\n",
       "<style scoped>\n",
       "    .dataframe tbody tr th:only-of-type {\n",
       "        vertical-align: middle;\n",
       "    }\n",
       "\n",
       "    .dataframe tbody tr th {\n",
       "        vertical-align: top;\n",
       "    }\n",
       "\n",
       "    .dataframe thead th {\n",
       "        text-align: right;\n",
       "    }\n",
       "</style>\n",
       "<table border=\"1\" class=\"dataframe\">\n",
       "  <thead>\n",
       "    <tr style=\"text-align: right;\">\n",
       "      <th></th>\n",
       "      <th>Gender</th>\n",
       "      <th>Age</th>\n",
       "      <th>Debt</th>\n",
       "      <th>Married</th>\n",
       "      <th>BankCustomer</th>\n",
       "      <th>Industry</th>\n",
       "      <th>Ethnicity</th>\n",
       "      <th>YearsEmployed</th>\n",
       "      <th>PriorDefault</th>\n",
       "      <th>Employed</th>\n",
       "      <th>CreditScore</th>\n",
       "      <th>DriversLicense</th>\n",
       "      <th>Citizen</th>\n",
       "      <th>ZipCode</th>\n",
       "      <th>Income</th>\n",
       "      <th>Approved</th>\n",
       "    </tr>\n",
       "  </thead>\n",
       "  <tbody>\n",
       "    <tr>\n",
       "      <th>0</th>\n",
       "      <td>1</td>\n",
       "      <td>30.83</td>\n",
       "      <td>0.000</td>\n",
       "      <td>1</td>\n",
       "      <td>1</td>\n",
       "      <td>7</td>\n",
       "      <td>4</td>\n",
       "      <td>1.25</td>\n",
       "      <td>1</td>\n",
       "      <td>1</td>\n",
       "      <td>1</td>\n",
       "      <td>0</td>\n",
       "      <td>0</td>\n",
       "      <td>202</td>\n",
       "      <td>0</td>\n",
       "      <td>1</td>\n",
       "    </tr>\n",
       "    <tr>\n",
       "      <th>1</th>\n",
       "      <td>0</td>\n",
       "      <td>58.67</td>\n",
       "      <td>4.460</td>\n",
       "      <td>1</td>\n",
       "      <td>1</td>\n",
       "      <td>9</td>\n",
       "      <td>1</td>\n",
       "      <td>3.04</td>\n",
       "      <td>1</td>\n",
       "      <td>1</td>\n",
       "      <td>6</td>\n",
       "      <td>0</td>\n",
       "      <td>0</td>\n",
       "      <td>43</td>\n",
       "      <td>560</td>\n",
       "      <td>1</td>\n",
       "    </tr>\n",
       "    <tr>\n",
       "      <th>2</th>\n",
       "      <td>0</td>\n",
       "      <td>24.50</td>\n",
       "      <td>0.500</td>\n",
       "      <td>1</td>\n",
       "      <td>1</td>\n",
       "      <td>9</td>\n",
       "      <td>1</td>\n",
       "      <td>1.50</td>\n",
       "      <td>1</td>\n",
       "      <td>0</td>\n",
       "      <td>0</td>\n",
       "      <td>0</td>\n",
       "      <td>0</td>\n",
       "      <td>280</td>\n",
       "      <td>824</td>\n",
       "      <td>1</td>\n",
       "    </tr>\n",
       "    <tr>\n",
       "      <th>3</th>\n",
       "      <td>1</td>\n",
       "      <td>27.83</td>\n",
       "      <td>1.540</td>\n",
       "      <td>1</td>\n",
       "      <td>1</td>\n",
       "      <td>7</td>\n",
       "      <td>4</td>\n",
       "      <td>3.75</td>\n",
       "      <td>1</td>\n",
       "      <td>1</td>\n",
       "      <td>5</td>\n",
       "      <td>1</td>\n",
       "      <td>0</td>\n",
       "      <td>100</td>\n",
       "      <td>3</td>\n",
       "      <td>1</td>\n",
       "    </tr>\n",
       "    <tr>\n",
       "      <th>4</th>\n",
       "      <td>1</td>\n",
       "      <td>20.17</td>\n",
       "      <td>5.625</td>\n",
       "      <td>1</td>\n",
       "      <td>1</td>\n",
       "      <td>7</td>\n",
       "      <td>4</td>\n",
       "      <td>1.71</td>\n",
       "      <td>1</td>\n",
       "      <td>0</td>\n",
       "      <td>0</td>\n",
       "      <td>0</td>\n",
       "      <td>1</td>\n",
       "      <td>120</td>\n",
       "      <td>0</td>\n",
       "      <td>1</td>\n",
       "    </tr>\n",
       "    <tr>\n",
       "      <th>...</th>\n",
       "      <td>...</td>\n",
       "      <td>...</td>\n",
       "      <td>...</td>\n",
       "      <td>...</td>\n",
       "      <td>...</td>\n",
       "      <td>...</td>\n",
       "      <td>...</td>\n",
       "      <td>...</td>\n",
       "      <td>...</td>\n",
       "      <td>...</td>\n",
       "      <td>...</td>\n",
       "      <td>...</td>\n",
       "      <td>...</td>\n",
       "      <td>...</td>\n",
       "      <td>...</td>\n",
       "      <td>...</td>\n",
       "    </tr>\n",
       "    <tr>\n",
       "      <th>685</th>\n",
       "      <td>1</td>\n",
       "      <td>21.08</td>\n",
       "      <td>10.085</td>\n",
       "      <td>0</td>\n",
       "      <td>0</td>\n",
       "      <td>3</td>\n",
       "      <td>1</td>\n",
       "      <td>1.25</td>\n",
       "      <td>0</td>\n",
       "      <td>0</td>\n",
       "      <td>0</td>\n",
       "      <td>0</td>\n",
       "      <td>0</td>\n",
       "      <td>260</td>\n",
       "      <td>0</td>\n",
       "      <td>0</td>\n",
       "    </tr>\n",
       "    <tr>\n",
       "      <th>686</th>\n",
       "      <td>0</td>\n",
       "      <td>22.67</td>\n",
       "      <td>0.750</td>\n",
       "      <td>1</td>\n",
       "      <td>1</td>\n",
       "      <td>4</td>\n",
       "      <td>4</td>\n",
       "      <td>2.00</td>\n",
       "      <td>0</td>\n",
       "      <td>1</td>\n",
       "      <td>2</td>\n",
       "      <td>1</td>\n",
       "      <td>0</td>\n",
       "      <td>200</td>\n",
       "      <td>394</td>\n",
       "      <td>0</td>\n",
       "    </tr>\n",
       "    <tr>\n",
       "      <th>687</th>\n",
       "      <td>0</td>\n",
       "      <td>25.25</td>\n",
       "      <td>13.500</td>\n",
       "      <td>0</td>\n",
       "      <td>0</td>\n",
       "      <td>6</td>\n",
       "      <td>2</td>\n",
       "      <td>2.00</td>\n",
       "      <td>0</td>\n",
       "      <td>1</td>\n",
       "      <td>1</td>\n",
       "      <td>1</td>\n",
       "      <td>0</td>\n",
       "      <td>200</td>\n",
       "      <td>1</td>\n",
       "      <td>0</td>\n",
       "    </tr>\n",
       "    <tr>\n",
       "      <th>688</th>\n",
       "      <td>1</td>\n",
       "      <td>17.92</td>\n",
       "      <td>0.205</td>\n",
       "      <td>1</td>\n",
       "      <td>1</td>\n",
       "      <td>2</td>\n",
       "      <td>4</td>\n",
       "      <td>0.04</td>\n",
       "      <td>0</td>\n",
       "      <td>0</td>\n",
       "      <td>0</td>\n",
       "      <td>0</td>\n",
       "      <td>0</td>\n",
       "      <td>280</td>\n",
       "      <td>750</td>\n",
       "      <td>0</td>\n",
       "    </tr>\n",
       "    <tr>\n",
       "      <th>689</th>\n",
       "      <td>1</td>\n",
       "      <td>35.00</td>\n",
       "      <td>3.375</td>\n",
       "      <td>1</td>\n",
       "      <td>1</td>\n",
       "      <td>4</td>\n",
       "      <td>1</td>\n",
       "      <td>8.29</td>\n",
       "      <td>0</td>\n",
       "      <td>0</td>\n",
       "      <td>0</td>\n",
       "      <td>1</td>\n",
       "      <td>0</td>\n",
       "      <td>0</td>\n",
       "      <td>0</td>\n",
       "      <td>0</td>\n",
       "    </tr>\n",
       "  </tbody>\n",
       "</table>\n",
       "<p>690 rows × 16 columns</p>\n",
       "</div>"
      ],
      "text/plain": [
       "     Gender    Age    Debt  Married  BankCustomer  Industry  Ethnicity  \\\n",
       "0         1  30.83   0.000        1             1         7          4   \n",
       "1         0  58.67   4.460        1             1         9          1   \n",
       "2         0  24.50   0.500        1             1         9          1   \n",
       "3         1  27.83   1.540        1             1         7          4   \n",
       "4         1  20.17   5.625        1             1         7          4   \n",
       "..      ...    ...     ...      ...           ...       ...        ...   \n",
       "685       1  21.08  10.085        0             0         3          1   \n",
       "686       0  22.67   0.750        1             1         4          4   \n",
       "687       0  25.25  13.500        0             0         6          2   \n",
       "688       1  17.92   0.205        1             1         2          4   \n",
       "689       1  35.00   3.375        1             1         4          1   \n",
       "\n",
       "     YearsEmployed  PriorDefault  Employed  CreditScore  DriversLicense  \\\n",
       "0             1.25             1         1            1               0   \n",
       "1             3.04             1         1            6               0   \n",
       "2             1.50             1         0            0               0   \n",
       "3             3.75             1         1            5               1   \n",
       "4             1.71             1         0            0               0   \n",
       "..             ...           ...       ...          ...             ...   \n",
       "685           1.25             0         0            0               0   \n",
       "686           2.00             0         1            2               1   \n",
       "687           2.00             0         1            1               1   \n",
       "688           0.04             0         0            0               0   \n",
       "689           8.29             0         0            0               1   \n",
       "\n",
       "     Citizen  ZipCode  Income  Approved  \n",
       "0          0      202       0         1  \n",
       "1          0       43     560         1  \n",
       "2          0      280     824         1  \n",
       "3          0      100       3         1  \n",
       "4          1      120       0         1  \n",
       "..       ...      ...     ...       ...  \n",
       "685        0      260       0         0  \n",
       "686        0      200     394         0  \n",
       "687        0      200       1         0  \n",
       "688        0      280     750         0  \n",
       "689        0        0       0         0  \n",
       "\n",
       "[690 rows x 16 columns]"
      ]
     },
     "execution_count": 6,
     "metadata": {},
     "output_type": "execute_result"
    }
   ],
   "source": [
    "data_frame"
   ]
  },
  {
   "cell_type": "markdown",
   "id": "a808ee90",
   "metadata": {},
   "source": [
    "# measure of the similarity between the labels"
   ]
  },
  {
   "cell_type": "code",
   "execution_count": 7,
   "id": "948be268",
   "metadata": {},
   "outputs": [],
   "source": [
    "Categorical_Feature = data_frame[['Gender', 'Married', 'BankCustomer', 'Industry', 'Ethnicity', 'Citizen', \n",
    "                     'PriorDefault', 'Employed', 'DriversLicense']]"
   ]
  },
  {
   "cell_type": "code",
   "execution_count": 8,
   "id": "8ce6c302",
   "metadata": {},
   "outputs": [],
   "source": [
    "Categorical = mic(Categorical_Feature, data_frame.Approved, discrete_features=True)\n",
    "Categorical = pd.Series(Categorical, index=Categorical_Feature.columns)"
   ]
  },
  {
   "cell_type": "code",
   "execution_count": 9,
   "id": "233fc5da",
   "metadata": {},
   "outputs": [],
   "source": [
    "Discrete_Feature = ['ZipCode', 'Income', 'CreditScore']"
   ]
  },
  {
   "cell_type": "code",
   "execution_count": 10,
   "id": "bb9400d6",
   "metadata": {},
   "outputs": [],
   "source": [
    "Discrete = mic(data_frame[Discrete_Feature], data_frame.Approved, discrete_features=True)\n",
    "Discrete = pd.Series(Discrete, index=data_frame[Discrete_Feature].columns)"
   ]
  },
  {
   "cell_type": "code",
   "execution_count": 11,
   "id": "aeee376b",
   "metadata": {},
   "outputs": [],
   "source": [
    "Continuous_Feature = ['Age', 'Debt', 'YearsEmployed']"
   ]
  },
  {
   "cell_type": "code",
   "execution_count": 12,
   "id": "af6d3ea9",
   "metadata": {},
   "outputs": [],
   "source": [
    "Continuous = mic(data_frame[Continuous_Feature], data_frame.Approved, discrete_features=False)\n",
    "Continuous = pd.Series(Continuous, index=data_frame[Continuous_Feature].columns)"
   ]
  },
  {
   "cell_type": "code",
   "execution_count": 13,
   "id": "ec69e1a5",
   "metadata": {},
   "outputs": [
    {
     "name": "stdout",
     "output_type": "stream",
     "text": [
      "Income            0.303647\n",
      "PriorDefault      0.295079\n",
      "ZipCode           0.201648\n",
      "CreditScore       0.167950\n",
      "Employed          0.108329\n",
      "Industry          0.075664\n",
      "YearsEmployed     0.061593\n",
      "Ethnicity         0.032413\n",
      "BankCustomer      0.018488\n",
      "Married           0.016834\n",
      "Debt              0.011751\n",
      "Citizen           0.006957\n",
      "DriversLicense    0.000500\n",
      "Gender            0.000418\n",
      "Age               0.000000\n",
      "Name: MI Scores, dtype: float64\n"
     ]
    }
   ],
   "source": [
    "mi_score = pd.concat([Categorical, Discrete, Continuous], axis=0)\n",
    "mi_score = pd.Series(mi_score, name=\"MI Scores\", index=X.columns)\n",
    "mi_score = mi_score.sort_values(ascending=False)\n",
    "print(mi_score)"
   ]
  },
  {
   "cell_type": "markdown",
   "id": "fd95d1d5",
   "metadata": {},
   "source": [
    "# drop featurs with mi score low than .01"
   ]
  },
  {
   "cell_type": "code",
   "execution_count": 94,
   "id": "7b38d9bb",
   "metadata": {},
   "outputs": [],
   "source": [
    "X = data_frame.drop(['Citizen', 'Age', 'DriversLicense', 'Gender'], axis=1)\n"
   ]
  },
  {
   "cell_type": "code",
   "execution_count": 95,
   "id": "67e769bd",
   "metadata": {},
   "outputs": [],
   "source": [
    "#X = stats.zscore(X)  ####\n",
    "\n",
    "#log_transformer = FunctionTransformer(np.log1p)\n",
    "\n",
    "# Apply the transformation\n",
    "#X_log = log_transformer.transform(X)"
   ]
  },
  {
   "cell_type": "markdown",
   "id": "d73b8a1e",
   "metadata": {},
   "source": [
    "# convert dataframe to array numpy "
   ]
  },
  {
   "cell_type": "code",
   "execution_count": 15,
   "id": "2791f71a",
   "metadata": {},
   "outputs": [],
   "source": [
    "X = X.values\n",
    "Y = Y.values"
   ]
  },
  {
   "cell_type": "code",
   "execution_count": 16,
   "id": "136fe06e",
   "metadata": {},
   "outputs": [
    {
     "data": {
      "text/plain": [
       "array([[0.000e+00, 1.000e+00, 1.000e+00, ..., 2.020e+02, 0.000e+00,\n",
       "        1.000e+00],\n",
       "       [4.460e+00, 1.000e+00, 1.000e+00, ..., 4.300e+01, 5.600e+02,\n",
       "        1.000e+00],\n",
       "       [5.000e-01, 1.000e+00, 1.000e+00, ..., 2.800e+02, 8.240e+02,\n",
       "        1.000e+00],\n",
       "       ...,\n",
       "       [1.350e+01, 0.000e+00, 0.000e+00, ..., 2.000e+02, 1.000e+00,\n",
       "        0.000e+00],\n",
       "       [2.050e-01, 1.000e+00, 1.000e+00, ..., 2.800e+02, 7.500e+02,\n",
       "        0.000e+00],\n",
       "       [3.375e+00, 1.000e+00, 1.000e+00, ..., 0.000e+00, 0.000e+00,\n",
       "        0.000e+00]])"
      ]
     },
     "execution_count": 16,
     "metadata": {},
     "output_type": "execute_result"
    }
   ],
   "source": [
    "X"
   ]
  },
  {
   "cell_type": "code",
   "execution_count": 17,
   "id": "0e0ffb78",
   "metadata": {},
   "outputs": [
    {
     "data": {
      "text/plain": [
       "array([1, 1, 1, 1, 1, 1, 1, 1, 1, 1, 1, 1, 1, 1, 1, 1, 1, 1, 1, 1, 1, 1,\n",
       "       1, 1, 1, 1, 1, 1, 1, 1, 1, 1, 1, 1, 1, 1, 1, 1, 1, 1, 1, 1, 1, 1,\n",
       "       1, 1, 1, 1, 1, 1, 1, 1, 1, 1, 1, 1, 1, 1, 1, 1, 1, 1, 1, 1, 1, 1,\n",
       "       1, 1, 1, 1, 0, 0, 0, 0, 0, 0, 0, 0, 0, 0, 0, 0, 0, 0, 0, 0, 0, 0,\n",
       "       0, 0, 0, 0, 0, 0, 0, 0, 0, 0, 0, 0, 0, 0, 0, 0, 0, 0, 0, 0, 0, 0,\n",
       "       0, 0, 0, 0, 0, 0, 0, 1, 1, 1, 1, 1, 1, 1, 1, 1, 1, 1, 1, 1, 1, 1,\n",
       "       1, 1, 1, 1, 1, 1, 1, 1, 1, 1, 1, 1, 1, 1, 1, 1, 1, 1, 1, 1, 1, 1,\n",
       "       1, 1, 1, 1, 1, 1, 1, 1, 1, 1, 1, 1, 1, 1, 1, 1, 1, 1, 1, 1, 1, 1,\n",
       "       1, 1, 1, 1, 1, 1, 1, 1, 1, 1, 1, 1, 1, 1, 1, 1, 1, 1, 1, 1, 1, 1,\n",
       "       1, 1, 1, 1, 1, 1, 1, 1, 1, 1, 1, 1, 1, 1, 1, 1, 1, 1, 1, 1, 1, 1,\n",
       "       1, 1, 1, 1, 1, 1, 1, 1, 1, 1, 1, 1, 1, 1, 1, 1, 1, 1, 1, 1, 1, 1,\n",
       "       1, 1, 1, 1, 1, 1, 1, 1, 1, 1, 1, 1, 0, 0, 0, 0, 0, 0, 0, 0, 0, 0,\n",
       "       0, 0, 0, 0, 1, 1, 1, 0, 0, 0, 0, 0, 0, 0, 0, 0, 0, 0, 0, 0, 0, 0,\n",
       "       0, 0, 0, 0, 0, 0, 0, 0, 0, 0, 0, 0, 0, 0, 0, 0, 0, 0, 0, 0, 0, 0,\n",
       "       0, 0, 0, 0, 0, 0, 0, 0, 0, 1, 1, 1, 1, 1, 1, 1, 0, 0, 0, 0, 0, 0,\n",
       "       0, 0, 0, 0, 0, 0, 0, 0, 0, 0, 0, 0, 0, 0, 0, 0, 0, 0, 0, 0, 0, 0,\n",
       "       0, 0, 0, 0, 0, 0, 0, 0, 0, 0, 0, 0, 0, 0, 0, 0, 0, 0, 0, 0, 0, 0,\n",
       "       0, 0, 0, 0, 0, 0, 0, 0, 0, 0, 0, 0, 0, 0, 0, 0, 0, 0, 0, 0, 0, 0,\n",
       "       0, 0, 0, 0, 0, 0, 0, 0, 0, 0, 0, 0, 0, 0, 0, 0, 0, 0, 0, 0, 0, 0,\n",
       "       0, 0, 0, 0, 0, 0, 0, 0, 0, 0, 0, 0, 0, 0, 0, 0, 0, 0, 0, 0, 0, 0,\n",
       "       0, 0, 0, 0, 0, 0, 0, 0, 0, 0, 0, 0, 0, 0, 0, 0, 0, 0, 0, 0, 0, 0,\n",
       "       0, 0, 0, 0, 0, 0, 0, 0, 0, 0, 0, 0, 0, 0, 0, 0, 0, 0, 0, 0, 0, 0,\n",
       "       0, 0, 0, 0, 0, 0, 1, 1, 1, 1, 1, 1, 1, 1, 1, 1, 1, 1, 1, 1, 1, 1,\n",
       "       1, 1, 1, 1, 1, 1, 1, 1, 1, 1, 1, 1, 1, 1, 1, 1, 1, 0, 0, 0, 0, 0,\n",
       "       0, 0, 0, 0, 0, 0, 0, 0, 0, 0, 0, 0, 0, 0, 0, 0, 0, 0, 0, 1, 1, 1,\n",
       "       1, 1, 1, 1, 1, 1, 1, 1, 1, 1, 1, 1, 1, 1, 1, 1, 1, 1, 1, 1, 1, 1,\n",
       "       1, 1, 1, 1, 1, 1, 1, 1, 1, 1, 1, 1, 1, 1, 1, 1, 1, 1, 1, 1, 1, 1,\n",
       "       1, 1, 1, 1, 1, 1, 1, 0, 0, 0, 0, 0, 1, 0, 0, 0, 0, 0, 0, 0, 0, 0,\n",
       "       0, 0, 0, 0, 0, 1, 1, 0, 0, 0, 0, 0, 0, 0, 0, 0, 0, 0, 0, 0, 0, 0,\n",
       "       0, 0, 0, 0, 0, 0, 0, 0, 0, 0, 0, 0, 0, 0, 0, 0, 0, 0, 0, 0, 0, 0,\n",
       "       0, 0, 0, 0, 0, 0, 0, 0, 0, 0, 0, 0, 0, 0, 0, 0, 0, 0, 0, 0, 0, 0,\n",
       "       0, 0, 0, 0, 0, 0, 0, 0], dtype=int64)"
      ]
     },
     "execution_count": 17,
     "metadata": {},
     "output_type": "execute_result"
    }
   ],
   "source": [
    "Y"
   ]
  },
  {
   "cell_type": "code",
   "execution_count": 18,
   "id": "0ea3b510",
   "metadata": {},
   "outputs": [],
   "source": [
    "X_train, X_test, y_train, y_test = train_test_split(X, Y, test_size=0.2, shuffle=True)"
   ]
  },
  {
   "cell_type": "markdown",
   "id": "11d7aec2",
   "metadata": {},
   "source": [
    "# use scaling for features"
   ]
  },
  {
   "cell_type": "code",
   "execution_count": 96,
   "id": "f6db9872",
   "metadata": {},
   "outputs": [],
   "source": [
    "sc = StandardScaler()\n",
    "X_train = sc.fit_transform(X_train)\n",
    "X_test = sc.transform(X_test)"
   ]
  },
  {
   "cell_type": "markdown",
   "id": "9dca37d0",
   "metadata": {},
   "source": [
    "# bult  the Model of Perceptron"
   ]
  },
  {
   "cell_type": "code",
   "execution_count": 97,
   "id": "5cd68be8",
   "metadata": {},
   "outputs": [],
   "source": [
    "class Perceptron_algorithm:\n",
    "    \n",
    "    def __init__(self, learning_rate=0.01, epochs=1000,w = None,b= None):\n",
    "        self.learning_rate = learning_rate\n",
    "        self.epochs = epochs\n",
    "        self.w = w\n",
    "        self.b = b\n",
    "            \n",
    "    def activation_function(self, x):\n",
    "        \n",
    "        activation=np.where(x>=0, 1, 0) \n",
    "       \n",
    "    \n",
    "        return activation   \n",
    "    \n",
    "    def fit(self,X,Y):\n",
    "        \n",
    "        num_sample, num_feat=X.shape\n",
    "        #self.b = 0\n",
    "        \n",
    "        for iter in range(self.epochs):\n",
    "            for idx, x_iter in enumerate(X):\n",
    "                linear_output = np.dot(x_iter, self.w) + self.b\n",
    "                #predict item after using activation finc\n",
    "                y_predicted = self.activation_function(linear_output)\n",
    "                \n",
    "                # Perceptron update rule\n",
    "                update = self.learning_rate * (y_predicted - Y[idx])\n",
    "                \n",
    "                self.w = self.w - update * x_iter\n",
    "                self.b = self.b - update\n",
    "            print(\"new w and new bais {}----->{} :)\".format(self.w, self.b))   \n",
    "                               \n",
    "                \n",
    "    def predict(self, X):\n",
    "        \n",
    "        linear_output = np.dot(X, self.w) + self.b\n",
    "        y_predicted = self.activation_function(linear_output)\n",
    "        \n",
    "        return y_predicted\n",
    "        "
   ]
  },
  {
   "cell_type": "code",
   "execution_count": 37,
   "id": "13526b83",
   "metadata": {},
   "outputs": [],
   "source": [
    "def accuracy(y_true, y_pred):\n",
    "    accuracy = np.sum(y_true == y_pred) / len(y_true)\n",
    "    return accuracy"
   ]
  },
  {
   "cell_type": "markdown",
   "id": "71a0d201",
   "metadata": {},
   "source": [
    "# initialize the weight array W0"
   ]
  },
  {
   "cell_type": "code",
   "execution_count": 38,
   "id": "19f9eaf2",
   "metadata": {},
   "outputs": [],
   "source": [
    " num_sample, num_feat=X_train.shape"
   ]
  },
  {
   "cell_type": "code",
   "execution_count": 39,
   "id": "a3749009",
   "metadata": {},
   "outputs": [],
   "source": [
    " wait=np.random.random(num_feat)"
   ]
  },
  {
   "cell_type": "code",
   "execution_count": 98,
   "id": "7bf86a7c",
   "metadata": {},
   "outputs": [
    {
     "data": {
      "text/plain": [
       "array([0.66878203, 0.60093274, 0.92775146, 0.6248495 , 0.29859687,\n",
       "       0.67446687, 0.51239625, 0.26107405, 0.57610987, 0.97046705,\n",
       "       0.59189517, 0.9531352 ])"
      ]
     },
     "execution_count": 98,
     "metadata": {},
     "output_type": "execute_result"
    }
   ],
   "source": [
    "wait"
   ]
  },
  {
   "cell_type": "code",
   "execution_count": 40,
   "id": "3d620906",
   "metadata": {},
   "outputs": [
    {
     "name": "stdout",
     "output_type": "stream",
     "text": [
      "(12,)\n"
     ]
    }
   ],
   "source": [
    "print(wait.shape)"
   ]
  },
  {
   "cell_type": "markdown",
   "id": "528aa0be",
   "metadata": {},
   "source": [
    "# deploy the model"
   ]
  },
  {
   "cell_type": "code",
   "execution_count": 99,
   "id": "aa13d7ee",
   "metadata": {},
   "outputs": [],
   "source": [
    "model=Perceptron_algorithm(learning_rate=0.001, epochs=50,w = wait,b=0)"
   ]
  },
  {
   "cell_type": "code",
   "execution_count": 100,
   "id": "0995bcb1",
   "metadata": {},
   "outputs": [
    {
     "name": "stdout",
     "output_type": "stream",
     "text": [
      "new w and new bais [0.62943191 0.54049649 0.86716794 0.60630156 0.28620854 0.66296063\n",
      " 0.51950962 0.25160182 0.57306958 0.91798845 0.59431585 1.03026611]----->-0.003 :)\n",
      "new w and new bais [0.59106835 0.4817337  0.8082495  0.58708356 0.27614029 0.6507217\n",
      " 0.52551356 0.24353289 0.56896056 0.8668033  0.59604352 1.10470717]----->-0.003 :)\n",
      "new w and new bais [0.55507591 0.43113809 0.75751134 0.5726422  0.2656051  0.63514872\n",
      " 0.52744236 0.23370984 0.5607475  0.81778486 0.5965376  1.17131923]----->-0.001 :)\n",
      "new w and new bais [0.52181704 0.39006375 0.71633675 0.55633475 0.25399012 0.61915035\n",
      " 0.52351225 0.21932609 0.55291584 0.76897882 0.59742518 1.23145816]----->-0.003 :)\n",
      "new w and new bais [0.4933254  0.35480608 0.68098569 0.5344558  0.24593552 0.60206351\n",
      " 0.51950962 0.20318822 0.54293681 0.72416452 0.59778388 1.28578001]----->-0.003 :)\n",
      "new w and new bais [0.46877972 0.32301456 0.64910143 0.51410121 0.2340579  0.58361731\n",
      " 0.51143185 0.183279   0.53159306 0.68480312 0.59784671 1.33629671]----->-0.001 :)\n",
      "new w and new bais [0.44467653 0.29895162 0.62497902 0.49293838 0.22254507 0.56549673\n",
      " 0.50246219 0.16600096 0.52053538 0.64448417 0.59807798 1.38145558]----->-0.002 :)\n",
      "new w and new bais [0.42301324 0.27600433 0.60196668 0.47566521 0.21325017 0.54704114\n",
      " 0.49141871 0.1530205  0.51143932 0.60974687 0.59776823 1.42079737]----->-0.001 :)\n",
      "new w and new bais [0.40142492 0.2560846  0.58200272 0.46113173 0.20633372 0.52849078\n",
      " 0.48148465 0.14267122 0.503999   0.5767728  0.59784996 1.45478133]----->-0.003 :)\n",
      "new w and new bais [0.38399608 0.2372805  0.56314882 0.44575733 0.19559424 0.51011017\n",
      " 0.4734794  0.13460228 0.49636798 0.54932999 0.59747076 1.48496014]----->-0.003 :)\n",
      "new w and new bais [0.36963033 0.22497013 0.55081011 0.43316868 0.18609506 0.49356905\n",
      " 0.46250842 0.12741041 0.48902797 0.52165197 0.59710088 1.5099998 ]----->-0.004 :)\n",
      "new w and new bais [0.35777978 0.21265975 0.53847139 0.422354   0.17928075 0.47728698\n",
      " 0.45153745 0.12021853 0.48168796 0.49542951 0.59673099 1.53302754]----->-0.005 :)\n",
      "new w and new bais [0.34874115 0.20102642 0.52682433 0.41132239 0.17216001 0.46496904\n",
      " 0.44367722 0.11565783 0.47580802 0.47351189 0.59698802 1.55069745]----->-0.009000000000000001 :)\n",
      "new w and new bais [0.34376585 0.18939309 0.51517727 0.40265608 0.16503928 0.45339125\n",
      " 0.4378183  0.11109713 0.46992807 0.45584896 0.59820302 1.56434352]----->-0.013000000000000005 :)\n",
      "new w and new bais [0.33879056 0.17775976 0.5035302  0.39398977 0.15791854 0.44181345\n",
      " 0.43195938 0.10653643 0.46404813 0.43818604 0.59941802 1.57798959]----->-0.017000000000000008 :)\n",
      "new w and new bais [0.3338505  0.16903477 0.4947949  0.38638131 0.15089994 0.43548967\n",
      " 0.42706486 0.10109867 0.45768149 0.42022649 0.60039582 1.58872712]----->-0.02000000000000001 :)\n",
      "new w and new bais [0.32891045 0.16030977 0.48605961 0.37877284 0.14388135 0.42916589\n",
      " 0.42217034 0.09566091 0.45131486 0.40226694 0.60137362 1.59946466]----->-0.023000000000000013 :)\n",
      "new w and new bais [0.32374899 0.15214259 0.47787934 0.3716309  0.13763611 0.42322304\n",
      " 0.41824023 0.09136332 0.44504854 0.38512482 0.60211421 1.60930557]----->-0.025000000000000015 :)\n",
      "new w and new bais [0.31858752 0.14397542 0.46969907 0.36448896 0.13139088 0.41728019\n",
      " 0.41431011 0.08706574 0.43878222 0.3679827  0.60285481 1.61914649]----->-0.027000000000000017 :)\n",
      "new w and new bais [0.31434967 0.13760093 0.46332051 0.35895012 0.12705715 0.41198076\n",
      " 0.40941559 0.08162798 0.43280693 0.35029746 0.60329321 1.6278721 ]----->-0.03000000000000002 :)\n",
      "new w and new bais [0.30930832 0.12943376 0.45514024 0.35299083 0.12349678 0.40632213\n",
      " 0.40348416 0.0773304  0.42654061 0.3427844  0.60349495 1.63570109]----->-0.03200000000000002 :)\n",
      "new w and new bais [0.30426697 0.12126658 0.44695997 0.34703153 0.11993641 0.4006635\n",
      " 0.39755273 0.07303281 0.42027429 0.33527133 0.60369669 1.64353009]----->-0.03400000000000002 :)\n",
      "new w and new bais [0.29964414 0.1148921  0.44058141 0.3414927  0.11761634 0.39489482\n",
      " 0.3906569  0.06961228 0.41449466 0.32878267 0.60413563 1.65024378]----->-0.037000000000000026 :)\n",
      "new w and new bais [0.29502132 0.10851761 0.43420285 0.33595387 0.11529626 0.38912614\n",
      " 0.38376107 0.06619176 0.40871503 0.32229401 0.60457457 1.65695747]----->-0.04000000000000003 :)\n",
      "new w and new bais [0.29039849 0.10214313 0.42782429 0.33041503 0.11297618 0.38335746\n",
      " 0.37686524 0.06277123 0.4029354  0.31580535 0.60501351 1.66367116]----->-0.04300000000000003 :)\n",
      "new w and new bais [0.28577566 0.09576864 0.42144572 0.3248762  0.11065611 0.37758878\n",
      " 0.3699694  0.05935071 0.39715577 0.30931669 0.60545246 1.67038485]----->-0.046000000000000034 :)\n",
      "new w and new bais [0.28115283 0.08939416 0.41506716 0.31933737 0.10833603 0.37182009\n",
      " 0.36307357 0.05593018 0.39137614 0.30282803 0.6058914  1.67709854]----->-0.04900000000000004 :)\n",
      "new w and new bais [0.27653    0.08301967 0.4086886  0.31379853 0.10601595 0.36605141\n",
      " 0.35617774 0.05250965 0.38559651 0.29633938 0.60633034 1.68381224]----->-0.05200000000000004 :)\n",
      "new w and new bais [0.27190717 0.07664519 0.40231004 0.3082597  0.10369588 0.36028273\n",
      " 0.34928191 0.04908913 0.37981688 0.28985072 0.60676928 1.69052593]----->-0.05500000000000004 :)\n",
      "new w and new bais [0.2664213  0.07082852 0.39648651 0.30407437 0.10214916 0.35411785\n",
      " 0.34335048 0.04479154 0.37355056 0.28753286 0.60697102 1.696343  ]----->-0.057000000000000044 :)\n",
      "new w and new bais [0.2618498  0.06680455 0.39246469 0.30030951 0.09982908 0.34816413\n",
      " 0.33845596 0.04137102 0.36777093 0.28494061 0.60737949 1.70104477]----->-0.060000000000000046 :)\n",
      "new w and new bais [0.2580835  0.06333839 0.38899789 0.29760249 0.09828237 0.34207326\n",
      " 0.33452584 0.03909067 0.36346128 0.28177182 0.60781775 1.70484993]----->-0.06200000000000005 :)\n",
      "new w and new bais [0.25431721 0.05987224 0.3855311  0.29489547 0.09673565 0.33598238\n",
      " 0.33059573 0.03681031 0.35915164 0.27860303 0.60825602 1.70865508]----->-0.06400000000000004 :)\n",
      "new w and new bais [0.25055091 0.05640609 0.3820643  0.29218846 0.09518893 0.32989151\n",
      " 0.32666561 0.03452996 0.35484199 0.27543423 0.60869428 1.71246023]----->-0.06600000000000004 :)\n",
      "new w and new bais [0.24678462 0.05293994 0.37859751 0.28948144 0.09364221 0.32380064\n",
      " 0.32273549 0.03224961 0.35053235 0.27226544 0.60913255 1.71626539]----->-0.06800000000000005 :)\n",
      "new w and new bais [0.24301832 0.04947378 0.37513071 0.28677442 0.0920955  0.31770976\n",
      " 0.31880537 0.02996926 0.34622271 0.26909665 0.60957081 1.72007054]----->-0.07000000000000005 :)\n",
      "new w and new bais [0.23925203 0.04600763 0.37166392 0.2840674  0.09054878 0.31161889\n",
      " 0.31487526 0.02768891 0.34191306 0.26592785 0.61000908 1.7238757 ]----->-0.07200000000000005 :)\n",
      "new w and new bais [0.23548573 0.04254148 0.36819712 0.28136039 0.08900206 0.30552802\n",
      " 0.31094514 0.02540856 0.33760342 0.26275906 0.61044734 1.72768085]----->-0.07400000000000005 :)\n",
      "new w and new bais [0.23171943 0.03907532 0.36473033 0.27865337 0.08745534 0.29943714\n",
      " 0.30701502 0.02312821 0.33329377 0.25959027 0.61088561 1.731486  ]----->-0.07600000000000005 :)\n",
      "new w and new bais [0.22795314 0.03560917 0.36126353 0.27594635 0.08590863 0.29334627\n",
      " 0.30308491 0.02084786 0.32898413 0.25642147 0.61132387 1.73529116]----->-0.07800000000000006 :)\n",
      "new w and new bais [0.22642931 0.03270084 0.35835177 0.27252321 0.08446405 0.28660014\n",
      " 0.30011919 0.01970768 0.32810114 0.25307921 0.61155999 1.73819969]----->-0.07900000000000006 :)\n",
      "new w and new bais [0.22490547 0.02979251 0.35544    0.26910007 0.08301948 0.27985401\n",
      " 0.29715348 0.01856751 0.32721816 0.24973695 0.61179612 1.74110823]----->-0.08000000000000006 :)\n",
      "new w and new bais [0.22338164 0.02688418 0.35252824 0.26567693 0.0815749  0.27310788\n",
      " 0.29418776 0.01742733 0.32633517 0.2463947  0.61203224 1.74401677]----->-0.08100000000000006 :)\n",
      "new w and new bais [0.22279785 0.02576853 0.35141818 0.2638569  0.08204183 0.267017\n",
      " 0.29225896 0.01716422 0.32593888 0.2412777  0.6125053  1.74581   ]----->-0.08300000000000006 :)\n",
      "new w and new bais [0.22221406 0.02465289 0.35030812 0.26203687 0.08250877 0.26092613\n",
      " 0.29033016 0.0169011  0.32554258 0.2361607  0.61297835 1.74760324]----->-0.08500000000000006 :)\n",
      "new w and new bais [0.22163027 0.02353725 0.34919806 0.26021683 0.0829757  0.25483526\n",
      " 0.28840135 0.01663798 0.32514628 0.2310437  0.61345141 1.74939647]----->-0.08700000000000006 :)\n",
      "new w and new bais [0.22104648 0.02242161 0.34808801 0.2583968  0.08344263 0.24874438\n",
      " 0.28647255 0.01637486 0.32474999 0.2259267  0.61392446 1.7511897 ]----->-0.08900000000000007 :)\n",
      "new w and new bais [0.22046269 0.02130597 0.34697795 0.25657677 0.08390957 0.24265351\n",
      " 0.28454375 0.01611175 0.32435369 0.22080971 0.61439752 1.75298294]----->-0.09100000000000007 :)\n",
      "new w and new bais [0.2198789  0.02019033 0.34586789 0.25475674 0.0843765  0.23656264\n",
      " 0.28261495 0.01584863 0.32395739 0.21569271 0.61487057 1.75477617]----->-0.09300000000000007 :)\n",
      "new w and new bais [0.21929511 0.01907469 0.34475783 0.2529367  0.08484343 0.23047176\n",
      " 0.28068614 0.01558551 0.32356109 0.21057571 0.61534363 1.7565694 ]----->-0.09500000000000007 :)\n"
     ]
    }
   ],
   "source": [
    "model.fit(X_train, y_train)"
   ]
  },
  {
   "cell_type": "markdown",
   "id": "ee650ec4",
   "metadata": {},
   "source": [
    "# predict the train data"
   ]
  },
  {
   "cell_type": "code",
   "execution_count": 85,
   "id": "93e0be4f",
   "metadata": {},
   "outputs": [],
   "source": [
    "train_predictions = model.predict(X_train)"
   ]
  },
  {
   "cell_type": "code",
   "execution_count": 86,
   "id": "d86df6b6",
   "metadata": {},
   "outputs": [
    {
     "name": "stdout",
     "output_type": "stream",
     "text": [
      "Perceptron classification accuracy: 0.9963768115942029\n"
     ]
    }
   ],
   "source": [
    "print(f'Perceptron classification accuracy: {accuracy(y_train, train_predictions)}')"
   ]
  },
  {
   "cell_type": "markdown",
   "id": "a428ee99",
   "metadata": {},
   "source": [
    "# show the  confusion_matrix"
   ]
  },
  {
   "cell_type": "code",
   "execution_count": 87,
   "id": "8f556c1e",
   "metadata": {},
   "outputs": [],
   "source": [
    "cm = confusion_matrix(y_train,train_predictions)"
   ]
  },
  {
   "cell_type": "code",
   "execution_count": 88,
   "id": "700e9988",
   "metadata": {},
   "outputs": [
    {
     "data": {
      "image/png": "[encoded data removed]",
      "text/plain": [
       "<Figure size 640x480 with 2 Axes>"
      ]
     },
     "metadata": {},
     "output_type": "display_data"
    }
   ],
   "source": [
    "sns.heatmap(cm, \n",
    "            annot=True,\n",
    "            fmt='g')\n",
    "plt.ylabel('Prediction',fontsize=13)\n",
    "plt.xlabel('Actual',fontsize=13)\n",
    "plt.title('Confusion Matrix',fontsize=17)\n",
    "plt.show()"
   ]
  },
  {
   "cell_type": "markdown",
   "id": "0fb1b918",
   "metadata": {},
   "source": [
    "# predict test data and show confusion_matrix"
   ]
  },
  {
   "cell_type": "code",
   "execution_count": 101,
   "id": "ca39e365",
   "metadata": {},
   "outputs": [],
   "source": [
    "test_predictions = model.predict(X_test)"
   ]
  },
  {
   "cell_type": "code",
   "execution_count": 102,
   "id": "7ac1f3b6",
   "metadata": {},
   "outputs": [
    {
     "name": "stdout",
     "output_type": "stream",
     "text": [
      "Perceptron classification accuracy: 0.9927536231884058\n"
     ]
    }
   ],
   "source": [
    "print(f'Perceptron classification accuracy: {accuracy(y_test, test_predictions)}')"
   ]
  },
  {
   "cell_type": "code",
   "execution_count": 103,
   "id": "ce281f40",
   "metadata": {},
   "outputs": [],
   "source": [
    "cmt = confusion_matrix(y_test,test_predictions)"
   ]
  },
  {
   "cell_type": "code",
   "execution_count": 104,
   "id": "b1ac7779",
   "metadata": {},
   "outputs": [
    {
     "data": {
      "image/png": "[encoded data removed]",
      "text/plain": [
       "<Figure size 640x480 with 2 Axes>"
      ]
     },
     "metadata": {},
     "output_type": "display_data"
    }
   ],
   "source": [
    "sns.heatmap(cmt, \n",
    "            annot=True,\n",
    "            fmt='g')\n",
    "plt.ylabel('Prediction',fontsize=13)\n",
    "plt.xlabel('Actual',fontsize=13)\n",
    "plt.title('Confusion Matrix',fontsize=17)\n",
    "plt.show()"
   ]
  },
  {
   "cell_type": "code",
   "execution_count": null,
   "id": "3451009a",
   "metadata": {},
   "outputs": [],
   "source": []
  }
 ],
 "metadata": {
  "kernelspec": {
   "display_name": "Python 3 (ipykernel)",
   "language": "python",
   "name": "python3"
  },
  "language_info": {
   "codemirror_mode": {
    "name": "ipython",
    "version": 3
   },
   "file_extension": ".py",
   "mimetype": "text/x-python",
   "name": "python",
   "nbconvert_exporter": "python",
   "pygments_lexer": "ipython3",
   "version": "3.10.9"
  }
 },
 "nbformat": 4,
 "nbformat_minor": 5
}
